{
 "cells": [
  {
   "cell_type": "code",
   "execution_count": 21,
   "metadata": {},
   "outputs": [],
   "source": [
    "from scscp import SCSCPCLI as cli\n",
    "import poly_parsing as parse\n",
    "from openmath import openmath as om"
   ]
  },
  {
   "cell_type": "code",
   "execution_count": 26,
   "metadata": {},
   "outputs": [],
   "source": [
    "client = cli(\"localhost\", 26133)"
   ]
  },
  {
   "cell_type": "code",
   "execution_count": 23,
   "metadata": {},
   "outputs": [
    {
     "data": {
      "text/plain": [
       "{'permgp1': ['orbit'], 'relation1': ['eq'], 'scscp2': ['get_allowed_heads', 'get_signature'], 'mitm_transient': ['registerServer', 'getAllServers', 'registerEquality', 'removeServer', 'registerFunction', 'removeFunction'], 'polyd': ['groebner'], 'permgp2': ['symmetric_group', 'dihedral_group']}"
      ]
     },
     "execution_count": 23,
     "metadata": {},
     "output_type": "execute_result"
    }
   ],
   "source": [
    "client.heads"
   ]
  },
  {
   "cell_type": "code",
   "execution_count": 24,
   "metadata": {},
   "outputs": [],
   "source": [
    "is_perm_group_sym = om.OMSymbol(\"IsPermGroup\", \"gap1\")\n",
    "group = client.heads.permgp2.dihedral_group([is_perm_group_sym, 4])\n",
    "poly = parse.parse_polynomial(\"3a + 2b + 0c + 0d\")\n",
    "action = om.OMSymbol(\"OnMultivariatePolynomialsVariables\", \"gap1\")"
   ]
  },
  {
   "cell_type": "code",
   "execution_count": 28,
   "metadata": {},
   "outputs": [],
   "source": [
    "orbit = client.heads.permgp1.orbit([group, poly, action])"
   ]
  },
  {
   "cell_type": "code",
   "execution_count": 29,
   "metadata": {},
   "outputs": [],
   "source": [
    "ring = poly.arguments[0]"
   ]
  },
  {
   "cell_type": "code",
   "execution_count": 30,
   "metadata": {},
   "outputs": [],
   "source": [
    "for polynomial in orbit.arguments:\n",
    "    polynomial.arguments[0] = ring"
   ]
  },
  {
   "cell_type": "code",
   "execution_count": 32,
   "metadata": {},
   "outputs": [],
   "source": [
    "groebner = client.heads.polyd.groebner([orbit])"
   ]
  },
  {
   "cell_type": "code",
   "execution_count": 33,
   "metadata": {},
   "outputs": [
    {
     "name": "stdout",
     "output_type": "stream",
     "text": [
      "2b+3a\n",
      "2b+3c\n",
      "2d+3a\n",
      "2d+3c\n"
     ]
    }
   ],
   "source": [
    "for polynomial in orbit.arguments:\n",
    "    print(parse.poly_to_str(polynomial))"
   ]
  },
  {
   "cell_type": "code",
   "execution_count": 34,
   "metadata": {},
   "outputs": [
    {
     "name": "stdout",
     "output_type": "stream",
     "text": [
      "3a+2b\n"
     ]
    }
   ],
   "source": [
    "for polynomial in groebner.arguments:\n",
    "    print(parse.poly_to_str(polynomial))"
   ]
  }
 ],
 "metadata": {
  "kernelspec": {
   "display_name": "Python 3",
   "language": "python",
   "name": "python3"
  },
  "language_info": {
   "codemirror_mode": {
    "name": "ipython",
    "version": 3
   },
   "file_extension": ".py",
   "mimetype": "text/x-python",
   "name": "python",
   "nbconvert_exporter": "python",
   "pygments_lexer": "ipython3",
   "version": "3.5.2"
  }
 },
 "nbformat": 4,
 "nbformat_minor": 2
}
